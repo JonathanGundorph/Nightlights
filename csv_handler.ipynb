{
  "nbformat": 4,
  "nbformat_minor": 0,
  "metadata": {
    "colab": {
      "provenance": []
    },
    "kernelspec": {
      "name": "python3",
      "display_name": "Python 3"
    },
    "language_info": {
      "name": "python"
    }
  },
  "cells": [
    {
      "cell_type": "code",
      "execution_count": null,
      "metadata": {
        "id": "0c9TNnpB2x8I"
      },
      "outputs": [],
      "source": [
        "import os\n",
        "import csv\n",
        "\n",
        "def append_data_to_csv(data, file_name='results.csv', headers=None):\n",
        "    if headers is None:\n",
        "        headers = ['Connmodel_Acc', 'Connmodel_MCC', 'Connmodel_F1',\n",
        "                   'XGBoost_Acc', 'XGBoost_MCC', 'XGBoost_F1',\n",
        "                   'AutoML_Acc', 'AutoML_MCC', 'AutoML_F1',\n",
        "                   'TabNet_Acc', 'TabNet_MCC', 'TabNet_F1']\n",
        "\n",
        "    file_exists = os.path.isfile(file_name)\n",
        "\n",
        "    with open(file_name, 'a', newline='') as csvfile:\n",
        "        writer = csv.DictWriter(csvfile, fieldnames=headers)\n",
        "        if not file_exists:\n",
        "            writer.writeheader()\n",
        "        writer.writerow(data)\n"
      ]
    }
  ]
}